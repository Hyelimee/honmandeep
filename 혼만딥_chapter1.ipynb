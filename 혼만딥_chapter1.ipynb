{
  "nbformat": 4,
  "nbformat_minor": 0,
  "metadata": {
    "colab": {
      "provenance": [],
      "authorship_tag": "ABX9TyMdDqzUP3dOnlPvch/X49Bz",
      "include_colab_link": true
    },
    "kernelspec": {
      "name": "python3",
      "display_name": "Python 3"
    },
    "language_info": {
      "name": "python"
    }
  },
  "cells": [
    {
      "cell_type": "markdown",
      "metadata": {
        "id": "view-in-github",
        "colab_type": "text"
      },
      "source": [
        "<a href=\"https://colab.research.google.com/github/Hyelimee/honmandeep/blob/main/%ED%98%BC%EB%A7%8C%EB%94%A5_chapter1.ipynb\" target=\"_parent\"><img src=\"https://colab.research.google.com/assets/colab-badge.svg\" alt=\"Open In Colab\"/></a>"
      ]
    },
    {
      "cell_type": "code",
      "source": [
        "import tensorflow as tf"
      ],
      "metadata": {
        "id": "7k1ocOWf2bbP"
      },
      "execution_count": 12,
      "outputs": []
    },
    {
      "cell_type": "code",
      "execution_count": 13,
      "metadata": {
        "id": "mbGDzbcnHn3Q"
      },
      "outputs": [],
      "source": [
        "import keras\n",
        "from keras import layers"
      ]
    },
    {
      "cell_type": "code",
      "source": [
        "#다차원 배열을 만들어 conv layer가 어떻게 처리하는지 확인\n",
        "import numpy as np\n",
        "\n",
        "x = np.random.normal(size=(10, 28, 28, 1))  #28*28*1 크기의 이미지 10개 랜덤생성"
      ],
      "metadata": {
        "id": "JQ4bDdAyAJDt"
      },
      "execution_count": 14,
      "outputs": []
    },
    {
      "cell_type": "code",
      "source": [
        "conv1 = layers.Conv2D(filters=10, kernel_size=(3, 3))\n",
        "conv_out = conv1(x)\n",
        "print(conv_out.shape)\n",
        "#지정된 필터 개수에 따라 깊이가 정해지므로 맨 끝 값이 10이 됨\n",
        "#패딩을 설정하지 않았기 때문에 기존 데이터의 양 끝 값이 제외됨 (28, 28) -> (26, 26)"
      ],
      "metadata": {
        "colab": {
          "base_uri": "https://localhost:8080/"
        },
        "id": "kY_7y_RnIg7d",
        "outputId": "1addd7e1-c193-4ceb-e63e-dee68771434f"
      },
      "execution_count": 15,
      "outputs": [
        {
          "output_type": "stream",
          "name": "stdout",
          "text": [
            "(10, 26, 26, 10)\n"
          ]
        }
      ]
    },
    {
      "cell_type": "code",
      "source": [
        "conv2 = layers.Conv2D(filters=10, kernel_size=(3, 3), strides=(2, 2))\n",
        "print(conv2(x).shape)\n",
        "#데이터에 필터를 두칸씩 움직이면서 합성곱층을 통과시키면 기존 (28, 28) -> 양끝값제외 (26, 26) -> 두칸씩이동 (13, 13) 값이 나온다\n",
        "#지정된 필터 개수는 여전히 10개이므로 맨 끝 값은 동일하게 10"
      ],
      "metadata": {
        "colab": {
          "base_uri": "https://localhost:8080/"
        },
        "id": "-AfL_S2xI0UB",
        "outputId": "44091036-e816-4750-9a98-51b10840f571"
      },
      "execution_count": 16,
      "outputs": [
        {
          "output_type": "stream",
          "name": "stdout",
          "text": [
            "(10, 13, 13, 10)\n"
          ]
        }
      ]
    },
    {
      "cell_type": "code",
      "source": [
        "#입력과 특성맵의 크기가 동일해지도록 padding을 추가해주는 'same' 매개변수 추가\n",
        "conv3 = layers.Conv2D(filters=10, kernel_size=(3, 3), strides=(2, 2), padding='same')\n",
        "\n",
        "print(conv3(x).shape)\n",
        "#패딩해주면 (30, 30)과 동일하게 볼 수 있으므로 양끝값을 제외하면 (28, 28)이고 두칸씩 움직였기 때문에 (14, 14) 값이 나옴\n",
        "#필터는 여전히 10개이므로 맨 끝 값은 10"
      ],
      "metadata": {
        "colab": {
          "base_uri": "https://localhost:8080/"
        },
        "id": "xmZQnK-RJPwg",
        "outputId": "3cdab9be-dd2b-4a8a-9906-2135acfaa07d"
      },
      "execution_count": 17,
      "outputs": [
        {
          "output_type": "stream",
          "name": "stdout",
          "text": [
            "(10, 14, 14, 10)\n"
          ]
        }
      ]
    },
    {
      "cell_type": "code",
      "source": [
        "#stride를 기본(1)으로 설정한다면?\n",
        "conv4 = layers.Conv2D(filters=10, kernel_size=(3, 3), padding='same')\n",
        "\n",
        "print(conv4(x).shape)"
      ],
      "metadata": {
        "colab": {
          "base_uri": "https://localhost:8080/"
        },
        "id": "L-W18lETJPC0",
        "outputId": "7072ae0b-c6b9-4c34-db7b-9087730d9a4d"
      },
      "execution_count": 18,
      "outputs": [
        {
          "output_type": "stream",
          "name": "stdout",
          "text": [
            "(10, 28, 28, 10)\n"
          ]
        }
      ]
    },
    {
      "cell_type": "code",
      "source": [
        "#풀링층 만들기\n",
        "pool1 = layers.AveragePooling2D(pool_size=2)\n",
        "pool2 = layers.AveragePooling2D(pool_size=3)\n",
        "pool3 = layers.AvgPool2D(pool_size=4) #AveragePooling2D와 동일한 역할\n",
        "\n",
        "print(pool1(x).shape)\n",
        "print(pool2(x).shape)\n",
        "print(pool3(x).shape)"
      ],
      "metadata": {
        "colab": {
          "base_uri": "https://localhost:8080/"
        },
        "id": "biEuCuoL9HCR",
        "outputId": "7adbc763-258a-4843-82cb-fa7cf987ba99"
      },
      "execution_count": 22,
      "outputs": [
        {
          "output_type": "stream",
          "name": "stdout",
          "text": [
            "(10, 14, 14, 1)\n",
            "(10, 9, 9, 1)\n",
            "(10, 7, 7, 1)\n"
          ]
        }
      ]
    },
    {
      "cell_type": "code",
      "source": [
        "#밀집층 만들기\n",
        "dense1 = layers.Dense(3)  #유닛 3개\n",
        "\n",
        "import numpy as np\n",
        "\n",
        "x2 = np.array([[5, 7]])\n",
        "print(dense1(x2).shape)"
      ],
      "metadata": {
        "colab": {
          "base_uri": "https://localhost:8080/"
        },
        "id": "Rt1BRJDc_7Pa",
        "outputId": "33c3ff7d-8c01-4286-c99c-6b2f0ead6bcb"
      },
      "execution_count": 29,
      "outputs": [
        {
          "output_type": "stream",
          "name": "stdout",
          "text": [
            "(1, 3)\n"
          ]
        }
      ]
    },
    {
      "cell_type": "code",
      "source": [
        "print(dense1.get_weights())  #'get_weights'로 가중치의 크기를 직접 확인할 수 있음"
      ],
      "metadata": {
        "colab": {
          "base_uri": "https://localhost:8080/"
        },
        "id": "-qr9Ad4wDtPa",
        "outputId": "59605a7d-327b-467e-fcac-2cb0c115cf51"
      },
      "execution_count": 30,
      "outputs": [
        {
          "output_type": "stream",
          "name": "stdout",
          "text": [
            "[array([[ 0.5739528 , -0.7313118 , -0.04911494],\n",
            "       [ 0.89678144,  0.20084286, -0.15032315]], dtype=float32), array([0., 0., 0.], dtype=float32)]\n"
          ]
        }
      ]
    },
    {
      "cell_type": "code",
      "source": [
        "#weight 직접 설정\n",
        "dense1.set_weights([\n",
        "    np.array([[1, 2, 3], [4, 5, 6]]), #가중치\n",
        "    np.array([0, 0, 0]) #절편\n",
        "])\n",
        "\n",
        "print(dense1(x2))"
      ],
      "metadata": {
        "colab": {
          "base_uri": "https://localhost:8080/"
        },
        "id": "O9LxDlEVBIFP",
        "outputId": "9ae80d53-1a95-4775-ea66-653a5bc4a28e"
      },
      "execution_count": 33,
      "outputs": [
        {
          "output_type": "stream",
          "name": "stdout",
          "text": [
            "tf.Tensor([[33. 45. 57.]], shape=(1, 3), dtype=float32)\n"
          ]
        }
      ]
    },
    {
      "cell_type": "code",
      "source": [
        "weight = dense1.get_weights()[0]\n",
        "print(np.dot(x2, weight))"
      ],
      "metadata": {
        "colab": {
          "base_uri": "https://localhost:8080/"
        },
        "id": "9BYa76-eDo0F",
        "outputId": "5b681fa3-15ba-4ad5-eaa4-f184db793b1f"
      },
      "execution_count": 36,
      "outputs": [
        {
          "output_type": "stream",
          "name": "stdout",
          "text": [
            "[[33. 45. 57.]]\n"
          ]
        }
      ]
    }
  ]
}